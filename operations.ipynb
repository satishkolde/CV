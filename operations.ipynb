{
  "nbformat": 4,
  "nbformat_minor": 0,
  "metadata": {
    "colab": {
      "provenance": [],
      "collapsed_sections": [],
      "authorship_tag": "ABX9TyOrVWS/4ulYhl83ea9aK1GZ",
      "include_colab_link": true
    },
    "kernelspec": {
      "name": "python3",
      "display_name": "Python 3"
    },
    "language_info": {
      "name": "python"
    }
  },
  "cells": [
    {
      "cell_type": "markdown",
      "metadata": {
        "id": "view-in-github",
        "colab_type": "text"
      },
      "source": [
        "<a href=\"https://colab.research.google.com/github/satishkolde/CV/blob/main/operations.ipynb\" target=\"_parent\"><img src=\"https://colab.research.google.com/assets/colab-badge.svg\" alt=\"Open In Colab\"/></a>"
      ]
    },
    {
      "cell_type": "code",
      "execution_count": 1,
      "metadata": {
        "colab": {
          "base_uri": "https://localhost:8080/"
        },
        "id": "5PIN3P9lDwmh",
        "outputId": "ab2154e7-ae36-4470-aa72-1d1113c0a88a"
      },
      "outputs": [
        {
          "output_type": "stream",
          "name": "stdout",
          "text": [
            "[1, 2, 3, 4, 5, 6, 7, 8, 9, 10]\n",
            "[1, 2, 3, 4, 5, 6, 7, 8, 9, 10]\n"
          ]
        }
      ],
      "source": [
        "lst1 = [1,2,3,4,5]\n",
        "lst2 = [6,7,8,9,10]\n",
        "print(lst1+lst2)\n",
        "print([*lst1,*lst2])"
      ]
    },
    {
      "cell_type": "code",
      "source": [
        "lst = [1,2,3,4,5,6,7,8,9,10]\n",
        "print(lst[1:3])\n",
        "print(lst[:4])\n",
        "print(lst[3:])\n",
        "print(lst[:])"
      ],
      "metadata": {
        "colab": {
          "base_uri": "https://localhost:8080/"
        },
        "id": "uoEotgSzET9Z",
        "outputId": "ed285f3b-b7a6-4521-ae6b-cbd869a91c95"
      },
      "execution_count": 3,
      "outputs": [
        {
          "output_type": "stream",
          "name": "stdout",
          "text": [
            "[2, 3]\n",
            "[1, 2, 3, 4]\n",
            "[4, 5, 6, 7, 8, 9, 10]\n",
            "[1, 2, 3, 4, 5, 6, 7, 8, 9, 10]\n"
          ]
        }
      ]
    },
    {
      "cell_type": "code",
      "source": [
        "print(lst[0:-1])"
      ],
      "metadata": {
        "colab": {
          "base_uri": "https://localhost:8080/"
        },
        "id": "jfuBqVqtE0Ih",
        "outputId": "de6fd08f-df11-4e74-92dd-9e2326384e15"
      },
      "execution_count": 4,
      "outputs": [
        {
          "output_type": "stream",
          "name": "stdout",
          "text": [
            "[1, 2, 3, 4, 5, 6, 7, 8, 9]\n"
          ]
        }
      ]
    },
    {
      "cell_type": "code",
      "source": [
        "print(lst[-7:-1])"
      ],
      "metadata": {
        "id": "FOe0L22fE-ZJ",
        "colab": {
          "base_uri": "https://localhost:8080/"
        },
        "outputId": "6f7bab97-8839-412d-b08e-dca0ce28d300"
      },
      "execution_count": 8,
      "outputs": [
        {
          "output_type": "stream",
          "name": "stdout",
          "text": [
            "[4, 5, 6, 7, 8, 9]\n"
          ]
        }
      ]
    },
    {
      "cell_type": "code",
      "source": [
        "w = 'python'\n",
        "print(w[-1])\n",
        "print(w[-2])\n",
        "print(w[1:3])\n",
        "print(w[2:5])\n",
        "print(w[:5])\n",
        "print(w[2:])\n",
        "print(w[-3])\n",
        "print(w[-3:1])\n",
        "print(w[-3:-1])\n",
        "print(w[-6:-1])"
      ],
      "metadata": {
        "colab": {
          "base_uri": "https://localhost:8080/"
        },
        "id": "3Yy-Qj9ZF1Z1",
        "outputId": "70bc00bd-2e6f-4e20-f58b-d0d87729a754"
      },
      "execution_count": 13,
      "outputs": [
        {
          "output_type": "stream",
          "name": "stdout",
          "text": [
            "n\n",
            "o\n",
            "yt\n",
            "tho\n",
            "pytho\n",
            "thon\n",
            "h\n",
            "\n",
            "ho\n",
            "pytho\n"
          ]
        }
      ]
    },
    {
      "cell_type": "code",
      "source": [
        "print(w[::-1])\n"
      ],
      "metadata": {
        "colab": {
          "base_uri": "https://localhost:8080/"
        },
        "id": "h5M0jYDmGdYQ",
        "outputId": "1de9d785-cadd-4630-9e93-39482d3741e1"
      },
      "execution_count": 14,
      "outputs": [
        {
          "output_type": "stream",
          "name": "stdout",
          "text": [
            "nohtyp\n"
          ]
        }
      ]
    },
    {
      "cell_type": "code",
      "source": [
        "# deleting elements form the list\n",
        "lst = [-1,1,66.25,333,333,1234.5]\n",
        "del lst[0]\n",
        "print(lst)\n",
        "del lst[2:4]\n",
        "print(lst)\n",
        "del lst[:]\n",
        "print(lst)"
      ],
      "metadata": {
        "colab": {
          "base_uri": "https://localhost:8080/"
        },
        "id": "zibTN0CXGe4D",
        "outputId": "f313a6f1-98d7-4d84-e750-3d07f83cb9bc"
      },
      "execution_count": 17,
      "outputs": [
        {
          "output_type": "stream",
          "name": "stdout",
          "text": [
            "[1, 66.25, 333, 333, 1234.5]\n",
            "[1, 66.25, 1234.5]\n",
            "[]\n"
          ]
        }
      ]
    },
    {
      "cell_type": "code",
      "source": [
        "prime_number = [2,3,5,7,9,11]\n",
        "prime_number.remove(9)\n",
        "\n",
        "print(\"Updated list : \",prime_number)\n",
        "\n",
        "lst = [1,2,3,4]\n",
        "print(\"Poped element : \",lst.pop())\n",
        "print(\"Poped element at index 1 : \",lst.pop(1))\n",
        "\n",
        "print(\"Updated list : \",lst)"
      ],
      "metadata": {
        "colab": {
          "base_uri": "https://localhost:8080/"
        },
        "id": "466rBNbLHcaj",
        "outputId": "35aeb412-1dbc-4a4c-aa73-b02ed8ec4e07"
      },
      "execution_count": 18,
      "outputs": [
        {
          "output_type": "stream",
          "name": "stdout",
          "text": [
            "Updated list :  [2, 3, 5, 7, 11]\n",
            "Poped element :  4\n",
            "Poped element at index 1 :  2\n",
            "Updated list :  [1, 3]\n"
          ]
        }
      ]
    },
    {
      "cell_type": "code",
      "source": [
        "lst = [1,2,3,4]\n",
        "print(\"Poped element at index 1 : \",lst[1:2].pop())\n"
      ],
      "metadata": {
        "colab": {
          "base_uri": "https://localhost:8080/"
        },
        "id": "J8yzuUrSID8g",
        "outputId": "e1d86281-f362-4780-d26d-7ae402190e65"
      },
      "execution_count": 19,
      "outputs": [
        {
          "output_type": "stream",
          "name": "stdout",
          "text": [
            "Poped element at index 1 :  2\n"
          ]
        }
      ]
    },
    {
      "cell_type": "code",
      "source": [
        "li = ['a','b','new','mpilgrim','z','example','new','two','elements']\n",
        "print(li.index('example'))\n",
        "print(li.index('new'))\n",
        "try:\n",
        "  print(li.index('c'))\n",
        "except:\n",
        "  print(\"value is not found\")\n",
        "print('c' in li)"
      ],
      "metadata": {
        "colab": {
          "base_uri": "https://localhost:8080/"
        },
        "id": "mQuGHEwBI33J",
        "outputId": "e180c230-9807-4f01-d16a-07cd65de383e"
      },
      "execution_count": 20,
      "outputs": [
        {
          "output_type": "stream",
          "name": "stdout",
          "text": [
            "5\n",
            "2\n",
            "value is not found\n",
            "False\n"
          ]
        }
      ]
    },
    {
      "cell_type": "code",
      "source": [
        "fruit = [['Orange','Fruit'],[\"Banana\",\"Fruit\"],['Mango','Fruit']]\n",
        "consume = ['Juice','Eat']\n",
        "possible = []\n",
        "\n",
        "for item in fruit:\n",
        "  for use in consume:\n",
        "    item.append(use)\n",
        "    possible.append(item[:])\n",
        "    item.pop(-1)\n",
        "\n",
        "# print(possible == fruit)\n",
        "print(possible)\n",
        "print(fruit)"
      ],
      "metadata": {
        "colab": {
          "base_uri": "https://localhost:8080/"
        },
        "id": "pzd5ko2XJg1y",
        "outputId": "97eb00b5-5176-43d4-dbec-aec2f7d0096b"
      },
      "execution_count": 28,
      "outputs": [
        {
          "output_type": "stream",
          "name": "stdout",
          "text": [
            "[['Orange', 'Fruit', 'Juice'], ['Orange', 'Fruit', 'Eat'], ['Banana', 'Fruit', 'Juice'], ['Banana', 'Fruit', 'Eat'], ['Mango', 'Fruit', 'Juice'], ['Mango', 'Fruit', 'Eat']]\n",
            "[['Orange', 'Fruit'], ['Banana', 'Fruit'], ['Mango', 'Fruit']]\n"
          ]
        }
      ]
    },
    {
      "cell_type": "code",
      "source": [
        "'''built in list functions'''\n",
        "lst = [1,2,3,4,5,6,7,8,9,10]\n",
        "lst = list(map(lambda x:x**2,lst))\n",
        "print(lst)"
      ],
      "metadata": {
        "colab": {
          "base_uri": "https://localhost:8080/"
        },
        "id": "NC2InMY3JkDP",
        "outputId": "8e03fdfa-a118-4c7c-8aef-a65d6c08ba76"
      },
      "execution_count": 35,
      "outputs": [
        {
          "output_type": "stream",
          "name": "stdout",
          "text": [
            "[1, 4, 9, 16, 25, 36, 49, 64, 81, 100]\n"
          ]
        }
      ]
    },
    {
      "cell_type": "code",
      "source": [
        "squares = [x**2 for x in range(1,11) if x%2 == 0]\n",
        "print(squares)"
      ],
      "metadata": {
        "colab": {
          "base_uri": "https://localhost:8080/"
        },
        "id": "1NzJtFA_LkuW",
        "outputId": "4acdf19e-9939-46b7-e3e5-92412a639fa8"
      },
      "execution_count": 41,
      "outputs": [
        {
          "output_type": "stream",
          "name": "stdout",
          "text": [
            "[4, 16, 36, 64, 100]\n"
          ]
        }
      ]
    },
    {
      "cell_type": "code",
      "source": [
        "lstOfWords = [\"this\",\"is\",\"a\",\"list\",'of',\"words\"]\n",
        "items = [i[0] for i in lstOfWords]\n",
        "print(items)\n",
        "\n",
        "string = \"Hello 12345 World\"\n",
        "numbers = [x for x in string if x.isdigit()]\n",
        "print(numbers)"
      ],
      "metadata": {
        "colab": {
          "base_uri": "https://localhost:8080/"
        },
        "id": "PlYdle89MQOX",
        "outputId": "883f7d51-2758-44a2-80a6-40f3606ed5bc"
      },
      "execution_count": 43,
      "outputs": [
        {
          "output_type": "stream",
          "name": "stdout",
          "text": [
            "['t', 'i', 'a', 'l', 'o', 'w']\n",
            "['1', '2', '3', '4', '5']\n"
          ]
        }
      ]
    },
    {
      "cell_type": "code",
      "source": [
        "lst = (4,3,2,1)\n",
        "\n",
        "for i in lst:\n",
        "  print(i,end=\" \")\n",
        "print()\n",
        "\n",
        "for i in lst[::-1]:\n",
        "  print(i,end=\" \")\n",
        "print()\n",
        "\n",
        "for i in ['Apple','Banana','Pear']:\n",
        "  print(i,end=\" \")\n",
        "print()\n",
        "\n",
        "for i in 'Apple':\n",
        "  print(i,end=\" \")\n",
        "print()"
      ],
      "metadata": {
        "colab": {
          "base_uri": "https://localhost:8080/"
        },
        "id": "WB0s6TpeM_KV",
        "outputId": "5d9311f1-ad55-4316-d16f-641ad5095647"
      },
      "execution_count": 44,
      "outputs": [
        {
          "output_type": "stream",
          "name": "stdout",
          "text": [
            "4 3 2 1 \n",
            "1 2 3 4 \n",
            "Apple Banana Pear \n",
            "A p p l e \n"
          ]
        }
      ]
    },
    {
      "cell_type": "code",
      "source": [
        "nums = [10,20,30,40,50,60]\n",
        "sum = 0\n",
        "print(\"Method One\")\n",
        "for k in nums:\n",
        "  sum += k\n",
        "print(sum)\n",
        "\n",
        "\n",
        "print(\"Method Two\")\n",
        "sum = 0\n",
        "for k in range(len(nums)):\n",
        "  sum += nums[k]\n",
        "print(sum)"
      ],
      "metadata": {
        "colab": {
          "base_uri": "https://localhost:8080/"
        },
        "id": "Sk1BgUL0N4mw",
        "outputId": "be62df22-0e60-457f-e825-b5c43e92aee5"
      },
      "execution_count": 46,
      "outputs": [
        {
          "output_type": "stream",
          "name": "stdout",
          "text": [
            "Method One\n",
            "210\n",
            "Method Two\n",
            "210\n"
          ]
        }
      ]
    },
    {
      "cell_type": "code",
      "source": [
        "my_tuple = ()\n",
        "print(my_tuple)\n",
        "\n",
        "my_tuple = (1,2,3)\n",
        "print(my_tuple)\n",
        "\n",
        "my_tuple = (1,\"Hello\",3.4)\n",
        "print(my_tuple)\n",
        "\n",
        "my_tuple = (\"mouse\",[8,4,6],(1,2,3))\n",
        "# my_tuple[1] = 10\n",
        "print(my_tuple)"
      ],
      "metadata": {
        "colab": {
          "base_uri": "https://localhost:8080/"
        },
        "id": "_IJ3rcHSOy8b",
        "outputId": "57093a24-15e7-4eb6-94ba-346235ca2389"
      },
      "execution_count": 50,
      "outputs": [
        {
          "output_type": "stream",
          "name": "stdout",
          "text": [
            "()\n",
            "(1, 2, 3)\n",
            "(1, 'Hello', 3.4)\n",
            "('mouse', [8, 4, 6], (1, 2, 3))\n"
          ]
        }
      ]
    },
    {
      "cell_type": "code",
      "source": [
        "zoo = ('python','elephant','penguin')\n",
        "print('Number of animals in the zoo is ',len(zoo))\n",
        "\n",
        "zoo = ('\\tmonkey','camel',zoo)\n",
        "print(\"\\t\\tNumber of cages in the new zoo is \",len(zoo))\n",
        "print(\"\\t\\t\\tAll animals in new zoo are\",zoo)\n",
        "print('\\t\\tAnimals brought from old zoo are ',zoo[2])\n",
        "print('\\tLast animal brought from old zoo is ',zoo[2][2])\n",
        "print('Number of animals in the new zoo is',len(zoo)-1+len(zoo[2]))"
      ],
      "metadata": {
        "colab": {
          "base_uri": "https://localhost:8080/"
        },
        "id": "E1V8rbBtP3Q5",
        "outputId": "3e00a232-4485-4ae4-f81d-46b5f85cd2a2"
      },
      "execution_count": 56,
      "outputs": [
        {
          "output_type": "stream",
          "name": "stdout",
          "text": [
            "Number of animals in the zoo is  3\n",
            "\t\tNumber of cages in the new zoo is  3\n",
            "\t\t\tAll animals in new zoo are ('\\tmonkey', 'camel', ('python', 'elephant', 'penguin'))\n",
            "\t\tAnimals brought from old zoo are  ('python', 'elephant', 'penguin')\n",
            "\tLast animal brought from old zoo is  penguin\n",
            "Number of animals in the new zoo is 5\n"
          ]
        }
      ]
    },
    {
      "cell_type": "code",
      "source": [
        "tup1 = (12,34,56)\n",
        "tup2 = ('abc','xyz')\n",
        "print(tup1,end=\"\\t\")\n",
        "print(tup2)\n",
        "tup3 = tup1 + tup2\n",
        "print(tup3)"
      ],
      "metadata": {
        "colab": {
          "base_uri": "https://localhost:8080/"
        },
        "id": "8jb_wuWbRKqc",
        "outputId": "a224f23f-d7a5-4a91-91b9-3c7440ef6f99"
      },
      "execution_count": 62,
      "outputs": [
        {
          "output_type": "stream",
          "name": "stdout",
          "text": [
            "(12, 34, 56)\t('abc', 'xyz')\n",
            "(12, 34, 56, 'abc', 'xyz')\n"
          ]
        }
      ]
    },
    {
      "cell_type": "code",
      "source": [
        "tup = ('physics','chemistry',1997,2000)\n",
        "\n",
        "print(tup)\n",
        "\n",
        "\n",
        "try :\n",
        "  del tup[1]\n",
        "except:\n",
        "  print(\"tuple object doesn't support item deletion\")\n",
        "\n",
        "\n",
        "del tup\n",
        "print('After deleting up : ')\n",
        "\n",
        "\n",
        "try :\n",
        "  print(tup)\n",
        "except:\n",
        "  print(\"tuple object doesn't found in the memory\")"
      ],
      "metadata": {
        "colab": {
          "base_uri": "https://localhost:8080/"
        },
        "id": "rMe2YYzzS9pN",
        "outputId": "c6efdd2b-c3a3-49cb-aba3-e837f60ea215"
      },
      "execution_count": 69,
      "outputs": [
        {
          "output_type": "stream",
          "name": "stdout",
          "text": [
            "('physics', 'chemistry', 1997, 2000)\n",
            "tuple object doesn't support item deletion\n",
            "After deleting up : \n",
            "tuple object doesn't found in the memory\n"
          ]
        }
      ]
    },
    {
      "cell_type": "code",
      "source": [
        "my_dic = {'sun':68.8,'mon':70.2,'tue':67.2,'wed':71.8}\n",
        "my_dic1= {'sun':68.8,'mon':70.1,'tue':67.2,'wed':71.8}\n",
        "my_dic2= {'sun':68.7,'mon':70.1,'tue':67.2,'wed':71.8}\n",
        "print(\"comparing dictionary one and two :\",my_dic1 == my_dic2)\n",
        "for key,value in my_dic.items():\n",
        "  print(f'{key} = {value}')"
      ],
      "metadata": {
        "colab": {
          "base_uri": "https://localhost:8080/"
        },
        "id": "XnufSVp0T_6w",
        "outputId": "64b8e029-799e-4f47-8d0c-304f23518dc7"
      },
      "execution_count": 74,
      "outputs": [
        {
          "output_type": "stream",
          "name": "stdout",
          "text": [
            "comparing dictionary one and two : False\n",
            "sun = 68.8\n",
            "mon = 70.2\n",
            "tue = 67.2\n",
            "wed = 71.8\n"
          ]
        }
      ]
    },
    {
      "cell_type": "code",
      "source": [
        "my_dic['thu'] = 45.7\n",
        "print(my_dic)"
      ],
      "metadata": {
        "colab": {
          "base_uri": "https://localhost:8080/"
        },
        "id": "dsR-SbRhVY9G",
        "outputId": "f7466dab-3f90-4892-cde9-4dc34de0f356"
      },
      "execution_count": 75,
      "outputs": [
        {
          "output_type": "stream",
          "name": "stdout",
          "text": [
            "{'sun': 68.8, 'mon': 70.2, 'tue': 67.2, 'wed': 71.8, 'thu': 45.7}\n"
          ]
        }
      ]
    },
    {
      "cell_type": "code",
      "source": [
        "dic = {'Name': 'Zara','Age':7,'Class':'First'}\n",
        "dic['Age'] = 8\n",
        "dic['School'] = \"DPS School\" \n",
        "print(dic.keys())\n",
        "print(\"dic['Age'] = \",dic['Age'])\n",
        "print(\"dic['School'] = \",dic['School'])"
      ],
      "metadata": {
        "colab": {
          "base_uri": "https://localhost:8080/"
        },
        "id": "mRnsyegeVihe",
        "outputId": "7e799a11-7b14-44b1-adf9-79d6edb3d261"
      },
      "execution_count": 82,
      "outputs": [
        {
          "output_type": "stream",
          "name": "stdout",
          "text": [
            "dict_keys(['Name', 'Age', 'Class', 'School'])\n",
            "dic['Age'] =  8\n",
            "dic['School'] =  DPS School\n"
          ]
        }
      ]
    },
    {
      "cell_type": "code",
      "source": [
        "del dic['School']\n",
        "dic.clear()\n",
        "del dic\n",
        "try:\n",
        "  print(\"dic['Age'] = \",dic['Age'])\n",
        "  print(\"dic['School'] = \",dic['School'])\n",
        "except:\n",
        "  print(\"dictionary object doesn't found in the memory\")"
      ],
      "metadata": {
        "colab": {
          "base_uri": "https://localhost:8080/"
        },
        "id": "4e4-_VyJXGil",
        "outputId": "8f01ba19-079e-4194-d29c-0cd7bc3baa06"
      },
      "execution_count": 83,
      "outputs": [
        {
          "output_type": "stream",
          "name": "stdout",
          "text": [
            "dictionary object doesn't found in the memory\n"
          ]
        }
      ]
    },
    {
      "cell_type": "code",
      "source": [
        "tem = {'mon':34.5,'tue':35.1,'wed':45.1,'thu':31.2,'fri':49.2,'sat':34.0,'sun':23.6}\n",
        "for key,values in tem.items():\n",
        "  print(f\"{key} : {values}\")"
      ],
      "metadata": {
        "colab": {
          "base_uri": "https://localhost:8080/"
        },
        "id": "9BM-dEgHXmRa",
        "outputId": "9308888b-223a-497b-d7fe-b565f96f1024"
      },
      "execution_count": 86,
      "outputs": [
        {
          "output_type": "stream",
          "name": "stdout",
          "text": [
            "mon : 34.5\n",
            "tue : 35.1\n",
            "wed : 45.1\n",
            "thu : 31.2\n",
            "fri : 49.2\n",
            "sat : 34.0\n",
            "sun : 23.6\n"
          ]
        }
      ]
    },
    {
      "cell_type": "code",
      "source": [],
      "metadata": {
        "id": "CUmSudWLYpPb"
      },
      "execution_count": null,
      "outputs": []
    }
  ]
}